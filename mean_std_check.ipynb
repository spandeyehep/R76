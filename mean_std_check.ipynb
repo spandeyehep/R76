{
 "cells": [
  {
   "cell_type": "code",
   "execution_count": 1,
   "id": "b73a4493",
   "metadata": {},
   "outputs": [
    {
     "name": "stdout",
     "output_type": "stream",
     "text": [
      "Welcome to JupyROOT 6.24/06\n"
     ]
    }
   ],
   "source": [
    "import ROOT as rt\n",
    "import os \n",
    "import sys\n",
    "import math\n",
    "import numpy as np"
   ]
  },
  {
   "cell_type": "code",
   "execution_count": 2,
   "id": "d752af5f",
   "metadata": {},
   "outputs": [],
   "source": [
    "rand = rt.TRandom3"
   ]
  },
  {
   "cell_type": "code",
   "execution_count": 4,
   "id": "e07d95f5",
   "metadata": {},
   "outputs": [
    {
     "ename": "TypeError",
     "evalue": "double TRandom::Gaus(double mean = 0, double sigma = 1) =>\n    TypeError: unbound method TRandom::Gaus must be called with a TRandom instance as first argument",
     "output_type": "error",
     "traceback": [
      "\u001b[0;31m---------------------------------------------------------------------------\u001b[0m",
      "\u001b[0;31mTypeError\u001b[0m                                 Traceback (most recent call last)",
      "Cell \u001b[0;32mIn[4], line 1\u001b[0m\n\u001b[0;32m----> 1\u001b[0m \u001b[43mrand\u001b[49m\u001b[38;5;241;43m.\u001b[39;49m\u001b[43mGaus\u001b[49m\u001b[43m(\u001b[49m\u001b[43m)\u001b[49m\n",
      "\u001b[0;31mTypeError\u001b[0m: double TRandom::Gaus(double mean = 0, double sigma = 1) =>\n    TypeError: unbound method TRandom::Gaus must be called with a TRandom instance as first argument"
     ]
    }
   ],
   "source": [
    "rand.Gaus()"
   ]
  },
  {
   "cell_type": "code",
   "execution_count": 5,
   "id": "b99ec92f",
   "metadata": {},
   "outputs": [
    {
     "data": {
      "text/plain": [
       "0.8396529278343277"
      ]
     },
     "execution_count": 5,
     "metadata": {},
     "output_type": "execute_result"
    }
   ],
   "source": [
    "np.random.normal(loc=0,scale=1)"
   ]
  },
  {
   "cell_type": "code",
   "execution_count": 10,
   "id": "123b95d4",
   "metadata": {},
   "outputs": [
    {
     "name": "stderr",
     "output_type": "stream",
     "text": [
      "Warning in <TROOT::Append>: Replacing existing TH1: h_gaus (Potential memory leak).\n"
     ]
    }
   ],
   "source": [
    "h_gaus = rt.TH1F('h_gaus','gaus',500,0,100)\n",
    "mean = 50.\n",
    "std = 5.\n",
    "for i in range(10000):\n",
    "    h_gaus.Fill(np.random.normal(loc=mean,scale=std))"
   ]
  },
  {
   "cell_type": "code",
   "execution_count": 11,
   "id": "5bec60c4",
   "metadata": {},
   "outputs": [
    {
     "data": {
      "image/png": "[encoded data removed]",
      "text/plain": [
       "<IPython.core.display.Image object>"
      ]
     },
     "metadata": {},
     "output_type": "display_data"
    }
   ],
   "source": [
    "c = rt.TCanvas()\n",
    "h_gaus.Draw()\n",
    "c.Draw()"
   ]
  },
  {
   "cell_type": "code",
   "execution_count": null,
   "id": "9819f3a3",
   "metadata": {},
   "outputs": [],
   "source": []
  }
 ],
 "metadata": {
  "kernelspec": {
   "display_name": "V04-12",
   "language": "python",
   "name": "mykernel"
  },
  "language_info": {
   "codemirror_mode": {
    "name": "ipython",
    "version": 3
   },
   "file_extension": ".py",
   "mimetype": "text/x-python",
   "name": "python",
   "nbconvert_exporter": "python",
   "pygments_lexer": "ipython3",
   "version": "3.8.10"
  }
 },
 "nbformat": 4,
 "nbformat_minor": 5
}
